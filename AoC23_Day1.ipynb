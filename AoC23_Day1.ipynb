{
 "cells": [
  {
   "cell_type": "markdown",
   "id": "6ccda352",
   "metadata": {},
   "source": [
    "### Part 1"
   ]
  },
  {
   "cell_type": "markdown",
   "id": "da21060d",
   "metadata": {},
   "source": [
    "On each line, the calibration value can be found by combining the first digit and the last digit (in that order) to form a single two-digit number."
   ]
  },
  {
   "cell_type": "markdown",
   "id": "d88762c8",
   "metadata": {},
   "source": [
    "Consider your entire calibration document. What is the sum of all of the calibration values?"
   ]
  },
  {
   "cell_type": "code",
   "execution_count": 1,
   "id": "0c425ba3",
   "metadata": {},
   "outputs": [],
   "source": [
    "# import statements\n",
    "import numpy as np"
   ]
  },
  {
   "cell_type": "code",
   "execution_count": 2,
   "id": "c0deb1e0",
   "metadata": {},
   "outputs": [],
   "source": [
    "# function to pull digits from a string\n",
    "def digits_only(input_str):\n",
    "    output_str = ''\n",
    "    \n",
    "    # loop over the entire input string\n",
    "    for i in range(0, len(input_str)):\n",
    "        if(input_str[i] in '0123456789'):\n",
    "            # build the output string\n",
    "            output_str += input_str[i]\n",
    "            \n",
    "    # return string containing only digits\n",
    "    return output_str"
   ]
  },
  {
   "cell_type": "code",
   "execution_count": 3,
   "id": "e278d54e",
   "metadata": {},
   "outputs": [],
   "source": [
    "# function to append first and last digits together\n",
    "def appendDigits(input_str):\n",
    "    return input_str[0]+input_str[-1]"
   ]
  },
  {
   "cell_type": "code",
   "execution_count": 4,
   "id": "9e7b398e",
   "metadata": {},
   "outputs": [],
   "source": [
    "# function to add list of numbers together\n",
    "def strToInt(input_array):\n",
    "    output_array = []\n",
    "    for i in range(0, len(input_array)):\n",
    "        output_array.append(int(input_array[i]))\n",
    "        \n",
    "    return output_array"
   ]
  },
  {
   "cell_type": "code",
   "execution_count": 5,
   "id": "09d22825",
   "metadata": {},
   "outputs": [
    {
     "name": "stdout",
     "output_type": "stream",
     "text": [
      "55621\n"
     ]
    }
   ],
   "source": [
    "#test = ['1abc2', 'pqr3stb8vwx', 'a1b2c3d4e5f', 'treb7uchet']\n",
    "caldoc_np = np.loadtxt('input', dtype=str)\n",
    "test = caldoc_np\n",
    "\n",
    "# pull out digits\n",
    "test_array = []\n",
    "for i in range(0, len(test)):\n",
    "    test_array.append(digits_only(test[i]))\n",
    "#print(test_array)\n",
    "\n",
    "# append first and last digits\n",
    "test_array2 = []\n",
    "for j in range(0, len(test_array)):\n",
    "    test_array2.append(appendDigits(test_array[j]))\n",
    "#print(test_array2)\n",
    "\n",
    "# convert string to int\n",
    "test_array3 = strToInt(test_array2)\n",
    "#print(test_array3)\n",
    "\n",
    "# sum all values\n",
    "final = sum(test_array3)\n",
    "print(final)"
   ]
  },
  {
   "cell_type": "markdown",
   "id": "922c5a1a",
   "metadata": {},
   "source": [
    "### Part 2"
   ]
  },
  {
   "cell_type": "markdown",
   "id": "d5a84ea9",
   "metadata": {},
   "source": [
    "It looks like some of the digits are actually spelled out with letters: one, two, three, four, five, six, seven, eight, and nine also count as valid \"digits\"."
   ]
  },
  {
   "cell_type": "markdown",
   "id": "f0b3ce45",
   "metadata": {},
   "source": [
    "What is the sum of all of the calibration values?"
   ]
  },
  {
   "cell_type": "code",
   "execution_count": 6,
   "id": "4b5658fa",
   "metadata": {},
   "outputs": [],
   "source": [
    "# https://docs.python.org/3/library/stdtypes.html#string-methods\n",
    "\n",
    "# PLAN: \n",
    "# 1. adjust my findDigits function to pull out words as well as numbers\n",
    "# 2. add a function to convert words to numbers\n",
    "# 3. continue as usual\n",
    "\n",
    "# cautions: keep order of numbers the same - can't check for digits then words, or if i do, must track index and reconstruct order"
   ]
  },
  {
   "cell_type": "code",
   "execution_count": 30,
   "id": "0f353760",
   "metadata": {},
   "outputs": [],
   "source": [
    "def findDigits(input_str):\n",
    "    # want to return an ordered list of digits\n",
    "    dig_str = ''\n",
    "    \n",
    "    # loop over input string finding all the digits and number words\n",
    "    for i in range(0, len(input_str)):\n",
    "        \n",
    "        if(input_str[i] in '0123456789'):\n",
    "            # it's a digit!\n",
    "            # build the output string\n",
    "            dig_str += input_str[i]\n",
    "            \n",
    "        elif (str.lower(input_str[i]) in 'zotfsen'):\n",
    "            # could be zero, one, two, three, four, five, six, seven, eight, nine\n",
    "            # note: str[i:i+n] syntax is exclusive of i+n. so a three-letter word starting at index i = [i:i+3]\n",
    "            let5 = str.lower(input_str[i:i+5]) # three, seven, eight\n",
    "            let4 = str.lower(input_str[i:i+4]) # zero, four, five, nine\n",
    "            let3 = str.lower(input_str[i:i+3]) # one, two, six\n",
    "            \n",
    "            if(str.isalpha(let4) and 'zero' in let4):\n",
    "                dig_str += '0'\n",
    "                #print('zero =?' + let4)\n",
    "                \n",
    "            if(str.isalpha(let3) and 'one' in let3):\n",
    "                dig_str += '1'\n",
    "                #print('one =?' + let3)\n",
    "\n",
    "            if(str.isalpha(let3) and 'two' in let3):\n",
    "                dig_str += '2'\n",
    "                #print('two =?' + let3)\n",
    "\n",
    "            if(str.isalpha(let5) and 'three' in let5):\n",
    "                dig_str += '3'\n",
    "                #print('three =?' + let5)\n",
    "            \n",
    "            if(str.isalpha(let4) and 'four' in let4):\n",
    "                dig_str += '4'\n",
    "                #print('four =?' + let4)\n",
    "            \n",
    "            if(str.isalpha(let4) and 'five' in let4):\n",
    "                dig_str += '5'\n",
    "                #print('five =?' + let4)\n",
    "            \n",
    "            if(str.isalpha(let3) and 'six' in let3):\n",
    "                dig_str += '6'\n",
    "                #print('six =?' + let3)\n",
    "            \n",
    "            if(str.isalpha(let5) and 'seven' in let5):\n",
    "                dig_str += '7'\n",
    "                #print('seven =?' + let5)\n",
    "            \n",
    "            if(str.isalpha(let5) and 'eight' in let5):\n",
    "                dig_str += '8'\n",
    "                #print('eight =?' + let5)\n",
    "            \n",
    "            if(str.isalpha(let4) and 'nine' in let4):\n",
    "                dig_str += '9'\n",
    "                #print('nine =?' + let4)\n",
    "\n",
    "            \n",
    "    return dig_str"
   ]
  },
  {
   "cell_type": "code",
   "execution_count": 34,
   "id": "1976f781",
   "metadata": {},
   "outputs": [
    {
     "name": "stdout",
     "output_type": "stream",
     "text": [
      "53592\n"
     ]
    }
   ],
   "source": [
    "#test = ['two1nine', 'eightwothree', 'abcone2threexyz', 'xtwone3four', '4nineeightseven2', 'zoneight234', '7pqrstsixteen']\n",
    "caldoc_np = np.loadtxt('input', dtype=str)\n",
    "test = caldoc_np\n",
    "\n",
    "# pull out digits and number-words\n",
    "test_array = []\n",
    "for i in range(0, len(test)):\n",
    "    test_array.append(findDigits(test[i]))\n",
    "#print(test_array)\n",
    "\n",
    "# append first and last digits\n",
    "test_array2 = []\n",
    "for j in range(0, len(test_array)):\n",
    "    test_array2.append(appendDigits(test_array[j]))\n",
    "#print(test_array2)\n",
    "\n",
    "# convert string to int\n",
    "test_array3 = strToInt(test_array2)\n",
    "#print(test_array3)\n",
    "\n",
    "# sum all values\n",
    "final = sum(test_array3)\n",
    "print(final)"
   ]
  },
  {
   "cell_type": "code",
   "execution_count": null,
   "id": "1b3ca296",
   "metadata": {},
   "outputs": [],
   "source": []
  }
 ],
 "metadata": {
  "kernelspec": {
   "display_name": "Python 3 (ipykernel)",
   "language": "python",
   "name": "python3"
  },
  "language_info": {
   "codemirror_mode": {
    "name": "ipython",
    "version": 3
   },
   "file_extension": ".py",
   "mimetype": "text/x-python",
   "name": "python",
   "nbconvert_exporter": "python",
   "pygments_lexer": "ipython3",
   "version": "3.11.4"
  }
 },
 "nbformat": 4,
 "nbformat_minor": 5
}
